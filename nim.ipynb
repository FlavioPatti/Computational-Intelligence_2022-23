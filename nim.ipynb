{
 "cells": [
  {
   "cell_type": "code",
   "execution_count": 14,
   "metadata": {},
   "outputs": [
    {
     "data": {
      "text/plain": [
       "'\\nPER LA VISUALIZZAZIONE DEL GIOCO \\n            *\\n           ***\\n          *****\\n         *******\\n        *********\\n \\n\\n-Task3.1: An agent using fixed rules based on nim-sum (i.e., an expert system)\\nES: if (num_object > 20 then something)\\n\\n-Task3.2: An agent using evolved rules\\nES: if (a < num_object < b) => ottimizzare a e b come se fossero parametri di un genoma\\n\\n-Task3.3: An agent using minmax\\n\\n-Task3.4: An agent using reinforcement learning\\n\\n'"
      ]
     },
     "execution_count": 14,
     "metadata": {},
     "output_type": "execute_result"
    }
   ],
   "source": [
    "\"\"\"\n",
    "PER LA VISUALIZZAZIONE DEL GIOCO \n",
    "            *\n",
    "           ***\n",
    "          *****\n",
    "         *******\n",
    "        *********\n",
    " \n",
    "\n",
    "-Task3.1: An agent using fixed rules based on nim-sum (i.e., an expert system)\n",
    "ES: if (num_object > 20 then something)\n",
    "\n",
    "-Task3.2: An agent using evolved rules\n",
    "ES: if (a < num_object < b) => ottimizzare a e b come se fossero parametri di un genoma\n",
    "\n",
    "-Task3.3: An agent using minmax\n",
    "\n",
    "-Task3.4: An agent using reinforcement learning\n",
    "\n",
    "\"\"\""
   ]
  },
  {
   "cell_type": "code",
   "execution_count": 22,
   "metadata": {},
   "outputs": [],
   "source": [
    "num_rows = 5\n",
    "k = 5\n"
   ]
  },
  {
   "cell_type": "code",
   "execution_count": 24,
   "metadata": {},
   "outputs": [],
   "source": [
    "class Nim:\n",
    "    def __init__(self, num_rows: int, k: int = None):\n",
    "        self._rows = [i*2 + 1 for i in range(num_rows)]\n",
    "        self._k = k\n",
    "        self._num_rows = num_rows\n",
    "        self._tot_objects = k*k\n",
    "        #l'avversario gioca in modo standard: toglie sempre 2 oggetti dalla riga tranne quando ci sono meno di due oggetti \n",
    "        # in quella riga (in quel caso ne toglie solo 1)\n",
    "        self._row_opponent = self._num_rows -1\n",
    "        self._num_objects_opponent = 2\n",
    "        self.GIOCO_FINITO = False\n",
    "    \n",
    "        \n",
    "    def nimming(self, row: int, num_objects: int): #toglie num_object da una determinata row\n",
    "        if num_objects <= self._k and self._k is not None: #check per correttezza della mossa\n",
    "            #se il numero di oggetti da togliere è maggiore di quelli attualmente presenti in quella riga tolgo solo quelli\n",
    "            if self._rows[row] < num_objects:\n",
    "                num_objects = self._rows[row]\n",
    "            \n",
    "            print(f\"tolgo {num_objects} oggetti dalla riga {row}\")\n",
    "            self._rows[row] -= num_objects\n",
    "            self._tot_objects -= num_objects \n",
    "            \n",
    "            if self._rows[row] <= 0:\n",
    "                self._num_rows -= 1\n",
    "                self._row_opponent = self._num_rows -1\n",
    "            \n",
    "            if sum(self._rows) == 0:\n",
    "                self.GIOCO_FINITO = True\n",
    "                print(\"Gioco finito\")\n",
    "        else:\n",
    "            print(\"Non hai inserito una mossa valida\")\n",
    "            \n",
    "    ###TASK 3.1 FIXED RULES####\n",
    "    def my_turn_fixed_rules(self):\n",
    "        chosen_row = 0\n",
    "        object_to_remove = 0\n",
    "        max = 0\n",
    "        \n",
    "        for i in range(self._num_rows):\n",
    "            if self._rows[i] > max:\n",
    "                max = self._rows[i]\n",
    "                chosen_row = i\n",
    "        \n",
    "        if (self._tot_objects < 25 and self._tot_objects >= 20):\n",
    "            object_to_remove = 3\n",
    "        if (self._tot_objects < 20 and self._tot_objects >= 15):\n",
    "            object_to_remove = 2\n",
    "        if (self._tot_objects < 15 and self._tot_objects >= 10):\n",
    "            object_to_remove = 1\n",
    "        if (self._tot_objects < 10 and self._tot_objects >= 5):\n",
    "            object_to_remove = 1\n",
    "        if (self._tot_objects < 5 and self._tot_objects >= 1):\n",
    "            object_to_remove = 1\n",
    "\n",
    "        return chosen_row, object_to_remove    "
   ]
  },
  {
   "cell_type": "code",
   "execution_count": 25,
   "metadata": {},
   "outputs": [
    {
     "name": "stdout",
     "output_type": "stream",
     "text": [
      "comincia il gioco [1, 3, 5, 7, 9]\n",
      "turno 0 gioca l'avversario e rimangono 25 oggetti\n",
      "tolgo 2 oggetti dalla riga 4\n",
      "condizione attuale [1, 3, 5, 7, 7]\n",
      "turno 1 gioco io e rimangono 23 oggetti\n"
     ]
    },
    {
     "ename": "TypeError",
     "evalue": "'int' object is not subscriptable",
     "output_type": "error",
     "traceback": [
      "\u001b[1;31m---------------------------------------------------------------------------\u001b[0m",
      "\u001b[1;31mTypeError\u001b[0m                                 Traceback (most recent call last)",
      "Cell \u001b[1;32mIn [25], line 12\u001b[0m\n\u001b[0;32m     10\u001b[0m \u001b[39melse\u001b[39;00m:\n\u001b[0;32m     11\u001b[0m     \u001b[39mprint\u001b[39m(\u001b[39mf\u001b[39m\u001b[39m\"\u001b[39m\u001b[39mturno \u001b[39m\u001b[39m{\u001b[39;00mi\u001b[39m}\u001b[39;00m\u001b[39m gioco io e rimangono \u001b[39m\u001b[39m{\u001b[39;00mnim\u001b[39m.\u001b[39m_tot_objects\u001b[39m}\u001b[39;00m\u001b[39m oggetti\u001b[39m\u001b[39m\"\u001b[39m)\n\u001b[1;32m---> 12\u001b[0m     my_row, my_num_objects \u001b[39m=\u001b[39m nim\u001b[39m.\u001b[39mmy_turn_fixed_rules()\n\u001b[0;32m     13\u001b[0m     nim\u001b[39m.\u001b[39mnimming(my_row, my_num_objects)\n\u001b[0;32m     15\u001b[0m \u001b[39mprint\u001b[39m(\u001b[39mf\u001b[39m\u001b[39m\"\u001b[39m\u001b[39mcondizione attuale \u001b[39m\u001b[39m{\u001b[39;00mnim\u001b[39m.\u001b[39m_rows\u001b[39m}\u001b[39;00m\u001b[39m\"\u001b[39m)\n",
      "Cell \u001b[1;32mIn [24], line 41\u001b[0m, in \u001b[0;36mNim.my_turn_fixed_rules\u001b[1;34m(self)\u001b[0m\n\u001b[0;32m     38\u001b[0m \u001b[39mmax\u001b[39m \u001b[39m=\u001b[39m \u001b[39m0\u001b[39m\n\u001b[0;32m     40\u001b[0m \u001b[39mfor\u001b[39;00m i \u001b[39min\u001b[39;00m \u001b[39mrange\u001b[39m(\u001b[39mself\u001b[39m\u001b[39m.\u001b[39m_num_rows):\n\u001b[1;32m---> 41\u001b[0m     \u001b[39mif\u001b[39;00m \u001b[39mself\u001b[39;49m\u001b[39m.\u001b[39;49m_num_rows[i] \u001b[39m>\u001b[39m \u001b[39mmax\u001b[39m:\n\u001b[0;32m     42\u001b[0m         \u001b[39mmax\u001b[39m \u001b[39m=\u001b[39m \u001b[39mself\u001b[39m\u001b[39m.\u001b[39m_num_rows[i]\n\u001b[0;32m     43\u001b[0m         chosen_row \u001b[39m=\u001b[39m i\n",
      "\u001b[1;31mTypeError\u001b[0m: 'int' object is not subscriptable"
     ]
    }
   ],
   "source": [
    "\n",
    "nim = Nim(num_rows, k)\n",
    "print(f\"comincia il gioco {nim._rows}\")\n",
    "\n",
    "i=0\n",
    "while nim.GIOCO_FINITO == False:\n",
    "#pari => opponent turn, dispari => my turn\n",
    "    if i % 2 == 0:\n",
    "        print(f\"turno {i} gioca l'avversario e rimangono {nim._tot_objects} oggetti\")\n",
    "        nim.nimming(nim._row_opponent, nim._num_objects_opponent)\n",
    "    else:\n",
    "        print(f\"turno {i} gioco io e rimangono {nim._tot_objects} oggetti\")\n",
    "        my_row, my_num_objects = nim.my_turn_fixed_rules()\n",
    "        nim.nimming(my_row, my_num_objects)\n",
    "    \n",
    "    print(f\"condizione attuale {nim._rows}\")\n",
    "    i = i + 1\n",
    "    \n",
    "if i % 2 == 0:\n",
    "    print(f\"Hai tolto l'ultimo oggetto! Vince la partita: il mio avversario\")\n",
    "else:\n",
    "    print(f\"Hai tolto l'ultimo oggetto! Vince la partita: io\")"
   ]
  }
 ],
 "metadata": {
  "kernelspec": {
   "display_name": "Python 3.10.7 64-bit",
   "language": "python",
   "name": "python3"
  },
  "language_info": {
   "codemirror_mode": {
    "name": "ipython",
    "version": 3
   },
   "file_extension": ".py",
   "mimetype": "text/x-python",
   "name": "python",
   "nbconvert_exporter": "python",
   "pygments_lexer": "ipython3",
   "version": "3.10.7"
  },
  "orig_nbformat": 4,
  "vscode": {
   "interpreter": {
    "hash": "a9cff5a362bc38ef45d817ae74b1af54d6a076e3d773891282bce078b815ba34"
   }
  }
 },
 "nbformat": 4,
 "nbformat_minor": 2
}
