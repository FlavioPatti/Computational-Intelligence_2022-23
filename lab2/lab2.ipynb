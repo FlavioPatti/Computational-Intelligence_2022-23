{
 "cells": [
  {
   "cell_type": "code",
   "execution_count": 43,
   "metadata": {},
   "outputs": [],
   "source": [
    "#Copyright (c) 2022 Giovanni Squillero\n",
    "#https://github.com/squillero/computational-intelligence\n",
    "#Free for personal or classroom use; see LICENSE.md for details.\n",
    "\n",
    "from collections import namedtuple\n",
    "import random"
   ]
  },
  {
   "cell_type": "code",
   "execution_count": 44,
   "metadata": {},
   "outputs": [],
   "source": [
    "N = 100\n",
    "\n",
    "POPULATION_SIZE = N*2            \n",
    "OFFSPRING_SIZE = int(N*1.5)         \n",
    "\n",
    "NUM_GENERATIONS = 1000          \n",
    "\n",
    "TOURNAMENT_SIZE = int(N/3)\n",
    "GENETIC_OPERATOR_RANDOMNESS = 0.3"
   ]
  },
  {
   "cell_type": "code",
   "execution_count": 45,
   "metadata": {},
   "outputs": [],
   "source": [
    "def problem(N, seed=42):\n",
    "    random.seed(seed)\n",
    "    return [\n",
    "        list(set(random.randint(0, N - 1) for n in range(random.randint(N // 5, N // 2))))\n",
    "        for n in range(random.randint(N, N * 5))\n",
    "    ]"
   ]
  },
  {
   "cell_type": "code",
   "execution_count": 46,
   "metadata": {},
   "outputs": [],
   "source": [
    "GOAL={i for i in range(N)}\n",
    "#print(GOAL)\n",
    "list_of_lists = problem(N)\n",
    "tmp =  {tuple(x) for x in list_of_lists}    # remove repeated inner list\n",
    "list_of_lists = list(tmp)                   \n",
    "#print(list_of_lists)\n",
    "PROBLEM_SIZE = len(list_of_lists)           \n"
   ]
  },
  {
   "cell_type": "code",
   "execution_count": 47,
   "metadata": {},
   "outputs": [],
   "source": [
    "Individual = namedtuple(\"Individual\", [\"genome\", \"fitness\"])\n",
    "\n",
    "#convert genome into a singol list\n",
    "def gen2List(genome):\n",
    "    list = []\n",
    "    for i, g in enumerate(genome):\n",
    "        if g:\n",
    "            list += list_of_lists[i]\n",
    "    return list\n",
    "\n",
    "#implementation of the tournament\n",
    "def tournament(population, tournament_size=TOURNAMENT_SIZE):          \n",
    "    return max(random.choices(population, k=tournament_size), key=lambda i: i.fitness) \n",
    "\n",
    "#implementation of 2 different types of cross over\n",
    "def one_cut_cross_over(g1, g2):                      \n",
    "    cut = random.randint(0, PROBLEM_SIZE)\n",
    "    return g1[:cut] + g2[cut:]\n",
    "\n",
    "def uniform_cross_over(g1, g2):\n",
    "    new_genoma = []\n",
    "    for i in range(PROBLEM_SIZE):\n",
    "        if i%2:\n",
    "            new_genoma.append(g1[i])\n",
    "        else:\n",
    "            new_genoma.append(g2[i])\n",
    "    return tuple(new_genoma)\n",
    "\n",
    "#implementation of mutation\n",
    "def mutation(g):                                \n",
    "    point = random.randint(0, PROBLEM_SIZE - 1)      \n",
    "    return g[:point] + (1 - g[point],) + g[point + 1 :] \n",
    "\n",
    "#define the fitness function: \n",
    "# we use a fitness that consist in two terms: \n",
    "# -the first one is an evaluation of how the genome is distant from the goal\n",
    "# -the second one is a term of regularization that penalizes lists that are too long\n",
    "def compute_fitness(genome):                                \n",
    "    list = gen2List(genome)\n",
    "    return (N - len(GOAL - set(list))) - pow(len(list), 1/2)\n",
    "\n",
    "#check if the genoma satisfies the goal\n",
    "def check_goal(genoma):\n",
    "    if set(gen2List(genoma)) == GOAL:\n",
    "        return True\n",
    "    else:\n",
    "        return False"
   ]
  },
  {
   "cell_type": "markdown",
   "metadata": {},
   "source": [
    "INITIAL POPULATION"
   ]
  },
  {
   "cell_type": "code",
   "execution_count": 48,
   "metadata": {},
   "outputs": [],
   "source": [
    "population = list()\n",
    "    \n",
    "for genome in [tuple(0 for _ in range(PROBLEM_SIZE)) for _ in range(POPULATION_SIZE)]:\n",
    "    genome = mutation(genome)   #the initial genome of the population are created by setting randomly only one element to 1                     \n",
    "    population.append(Individual(genome, compute_fitness(genome))) \n",
    "\n",
    "#print(population)"
   ]
  },
  {
   "cell_type": "markdown",
   "metadata": {},
   "source": [
    "EVOLUTION"
   ]
  },
  {
   "cell_type": "code",
   "execution_count": 49,
   "metadata": {},
   "outputs": [
    {
     "name": "stdout",
     "output_type": "stream",
     "text": [
      "conv_fit 86.0 found with w : 196 and N : 100\n"
     ]
    }
   ],
   "source": [
    "best_fit = 0\n",
    "for g in range(NUM_GENERATIONS):\n",
    "    offspring = list()\n",
    "    for i in range(OFFSPRING_SIZE):\n",
    "        if random.random() < GENETIC_OPERATOR_RANDOMNESS:                         \n",
    "            p = tournament(population)                  \n",
    "            o = mutation(p.genome)                    \n",
    "        else:                                          \n",
    "            p1 = tournament(population)                 \n",
    "            p2 = tournament(population)\n",
    "            o = uniform_cross_over(p1.genome, p2.genome)            \n",
    "        f = compute_fitness(o)                                                        \n",
    "        offspring.append(Individual(o, f))                 \n",
    "    population += offspring      \n",
    "    population = sorted(population, key=lambda i: i[1], reverse=True)[:POPULATION_SIZE]\n",
    "    \n",
    "    #analize the best genoma of the actual population and update parameters\n",
    "    if best_fit < population[0][1] and check_goal(population[0][0]):\n",
    "        best_fit = population[0][1]\n",
    "        w = len(gen2List(population[0][0]))\n",
    "\n",
    "print(f\"conv_fit {best_fit} found with w : {w} and N : {N}\")"
   ]
  }
 ],
 "metadata": {
  "kernelspec": {
   "display_name": "Python 3.10.7 64-bit",
   "language": "python",
   "name": "python3"
  },
  "language_info": {
   "codemirror_mode": {
    "name": "ipython",
    "version": 3
   },
   "file_extension": ".py",
   "mimetype": "text/x-python",
   "name": "python",
   "nbconvert_exporter": "python",
   "pygments_lexer": "ipython3",
   "version": "3.10.7"
  },
  "orig_nbformat": 4,
  "vscode": {
   "interpreter": {
    "hash": "a9cff5a362bc38ef45d817ae74b1af54d6a076e3d773891282bce078b815ba34"
   }
  }
 },
 "nbformat": 4,
 "nbformat_minor": 2
}
